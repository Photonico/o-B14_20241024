{
 "cells": [
  {
   "cell_type": "markdown",
   "metadata": {},
   "source": [
    "# Bandstructure with PDoS"
   ]
  },
  {
   "cell_type": "markdown",
   "metadata": {},
   "source": []
  },
  {
   "cell_type": "code",
   "execution_count": 1,
   "metadata": {},
   "outputs": [],
   "source": [
    "# prework\n",
    "\n",
    "from vmatplot.bandstructure import *\n",
    "import matplotlib.pyplot as plt\n"
   ]
  },
  {
   "cell_type": "code",
   "execution_count": null,
   "metadata": {},
   "outputs": [],
   "source": [
    "# bandstructure with PDoS\n",
    "\n",
    "index_g1 = (5,8); index_g2 = [(1,4),13,14]; index_g3 = (1,14)\n",
    "PDoS_dict = \"4.1_PDoS/o-B14_K20\"\n",
    "bs_dict = \"4.1_PDoS/o-B14_K20\"\n",
    "\n",
    "bs_list = [\"monocolor\", \"test\", bs_dict]\n",
    "PDoS_list = [[\"$p$ for Group 1\", PDoS_dict, index_g1, \"p\", \"blue\", \"solid\", 2.0, 1.0],\n",
    "             [\"$s$ for Group 1\", PDoS_dict, index_g1, \"s\", \"blue\", \"dashed\", 2.0, 1.0],\n",
    "             [\"$p$ for Group 2\", PDoS_dict, index_g2, \"p\", \"orange\", \"solid\", 2.0, 1.0],\n",
    "             [\"$s$ for Group 2\", PDoS_dict, index_g2, \"s\", \"orange\", \"dashed\", 2.0, 1.0],\n",
    "             [\"$p$ for Group 3\", PDoS_dict, index_g3, \"p\", \"purple\", \"solid\", 2.0, 1.0],\n",
    "             [\"$s$ for Group 3\", PDoS_dict, index_g3, \"s\", \"purple\", \"dashed\", 2.0, 1.0]]\n",
    "bs_PDoS_list = [bs_list, PDoS_list]\n",
    "\n",
    "plot_bsPDoS(\"Bandstructure and DoS for o-B₁₄\", bs_list, PDoS_list, 4, 10, True)\n",
    "plt.savefig(\"figures/3.3_bsPDoS.pdf\")\n"
   ]
  }
 ],
 "metadata": {
  "kernelspec": {
   "display_name": "Python 3",
   "language": "python",
   "name": "python3"
  },
  "language_info": {
   "codemirror_mode": {
    "name": "ipython",
    "version": 3
   },
   "file_extension": ".py",
   "mimetype": "text/x-python",
   "name": "python",
   "nbconvert_exporter": "python",
   "pygments_lexer": "ipython3",
   "version": "3.6.8"
  }
 },
 "nbformat": 4,
 "nbformat_minor": 2
}
