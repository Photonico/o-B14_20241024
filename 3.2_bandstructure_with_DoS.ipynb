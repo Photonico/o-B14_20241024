{
 "cells": [
  {
   "cell_type": "markdown",
   "metadata": {},
   "source": [
    "# Bandstructure"
   ]
  },
  {
   "cell_type": "code",
   "execution_count": null,
   "metadata": {},
   "outputs": [],
   "source": [
    "# Prework\n",
    "\n",
    "from vmatplot.bandstructure import *"
   ]
  },
  {
   "cell_type": "code",
   "execution_count": null,
   "metadata": {},
   "outputs": [],
   "source": [
    "# bandstructure with DoS\n",
    "\n",
    "bsDoS_list = [[\"monocolor\", \"\", \"3.1_bandstructure/B14_K24_alpha\", \"4.1_PDoS/B14_K20\", \"default\"]]\n",
    "\n",
    "plot_bsDoS(\"for o-B₁₄\", 4, 10, bsDoS_list)\n",
    "\n",
    "plt.savefig(\"figures/3.2_bsDoS.pdf\")\n"
   ]
  }
 ],
 "metadata": {
  "kernelspec": {
   "display_name": "Python 3",
   "language": "python",
   "name": "python3"
  },
  "language_info": {
   "name": "python",
   "version": "3.6.8"
  }
 },
 "nbformat": 4,
 "nbformat_minor": 2
}
