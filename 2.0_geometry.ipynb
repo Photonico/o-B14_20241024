{
 "cells": [
  {
   "cell_type": "markdown",
   "metadata": {
    "vscode": {
     "languageId": "plaintext"
    }
   },
   "source": [
    "# Convergence testing\n",
    "\n",
    "Energy versus parameters\n",
    "\n",
    "* VASP parameters:\n",
    "\n",
    "    * `ISIF = 3`\n"
   ]
  },
  {
   "cell_type": "code",
   "execution_count": 1,
   "metadata": {},
   "outputs": [
    {
     "name": "stdout",
     "output_type": "stream",
     "text": [
      "For o-B₁₄\n",
      "The optimizated lattice constant is 5.70097069, and the corresponding energy is -90.60772594.\n",
      "The elapsed time of this job is 250.42.\n"
     ]
    }
   ],
   "source": [
    "#### Optimizated lattice\n",
    "\n",
    "from vmatplot.commons import identify_parameters\n",
    "\n",
    "## o-B14\n",
    "\n",
    "geometry_data = identify_parameters(\"2.1_geometry_optimization/o-B14_600\")\n",
    "lattice = geometry_data[\"lattice constant\"]\n",
    "energy = geometry_data[\"total energy\"]\n",
    "time = geometry_data[\"elapsed time (sec)\"]\n",
    "\n",
    "print(\"For o-B₁₄\")\n",
    "print(f\"The optimizated lattice constant is {lattice}, and the corresponding energy is {energy}.\")\n",
    "print(f\"The elapsed time of this job is {time}.\")\n"
   ]
  },
  {
   "cell_type": "code",
   "execution_count": 2,
   "metadata": {},
   "outputs": [
    {
     "name": "stdout",
     "output_type": "stream",
     "text": [
      "For o-B₁₄\n",
      "The optimizated lattice constant is 5.70097069, and the corresponding energy is -92.60163529.\n",
      "The elapsed time of this job is 797.212.\n"
     ]
    }
   ],
   "source": [
    "#### Self consistent\n",
    "\n",
    "## o-B14\n",
    "\n",
    "geometry_data = identify_parameters(\"2.2_self_consistent/o-B14_alpha_k34\")\n",
    "lattice = geometry_data[\"lattice constant\"]\n",
    "energy = geometry_data[\"total energy\"]\n",
    "time = geometry_data[\"elapsed time (sec)\"]\n",
    "\n",
    "print(\"For o-B₁₄\")\n",
    "print(f\"The optimizated lattice constant is {lattice}, and the corresponding energy is {energy}.\")\n",
    "print(f\"The elapsed time of this job is {time}.\")\n"
   ]
  },
  {
   "cell_type": "markdown",
   "metadata": {},
   "source": []
  }
 ],
 "metadata": {
  "kernelspec": {
   "display_name": "Python 3",
   "language": "python",
   "name": "python3"
  },
  "language_info": {
   "codemirror_mode": {
    "name": "ipython",
    "version": 3
   },
   "file_extension": ".py",
   "mimetype": "text/x-python",
   "name": "python",
   "nbconvert_exporter": "python",
   "pygments_lexer": "ipython3",
   "version": "3.6.8"
  }
 },
 "nbformat": 4,
 "nbformat_minor": 2
}
