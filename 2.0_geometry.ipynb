{
 "cells": [
  {
   "cell_type": "markdown",
   "metadata": {
    "vscode": {
     "languageId": "plaintext"
    }
   },
   "source": [
    "# Convergence testing\n",
    "\n",
    "Energy versus parameters\n",
    "\n",
    "* VASP parameters:\n",
    "\n",
    "    * `ISIF = 3`\n"
   ]
  },
  {
   "cell_type": "code",
   "execution_count": 1,
   "metadata": {},
   "outputs": [
    {
     "name": "stdout",
     "output_type": "stream",
     "text": [
      "The optimizated lattice constant is 5.70097069, and the corresponding energy is -90.60772594.\n",
      "The elapsed time of this job is 250.42.\n"
     ]
    }
   ],
   "source": [
    "# Optimizated lattice\n",
    "\n",
    "from vmatplot.commons import identify_parameters\n",
    "\n",
    "geometry_data = identify_parameters(\"2.1_geometry_optimization/B14_600\")\n",
    "lattice = geometry_data[\"lattice constant\"]\n",
    "energy = geometry_data[\"total energy\"]\n",
    "time = geometry_data[\"elapsed time (sec)\"]\n",
    "\n",
    "print(f\"The optimizated lattice constant is {lattice}, and the corresponding energy is {energy}.\")\n",
    "print(f\"The elapsed time of this job is {time}.\")"
   ]
  },
  {
   "cell_type": "markdown",
   "metadata": {},
   "source": []
  }
 ],
 "metadata": {
  "kernelspec": {
   "display_name": "Python 3",
   "language": "python",
   "name": "python3"
  },
  "language_info": {
   "codemirror_mode": {
    "name": "ipython",
    "version": 3
   },
   "file_extension": ".py",
   "mimetype": "text/x-python",
   "name": "python",
   "nbconvert_exporter": "python",
   "pygments_lexer": "ipython3",
   "version": "3.6.8"
  }
 },
 "nbformat": 4,
 "nbformat_minor": 2
}
