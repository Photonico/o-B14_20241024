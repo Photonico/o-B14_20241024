{
 "cells": [
  {
   "cell_type": "markdown",
   "metadata": {
    "vscode": {
     "languageId": "plaintext"
    }
   },
   "source": [
    "# DoS\n",
    "\n",
    "Electronic density of state versus energy \n"
   ]
  },
  {
   "cell_type": "code",
   "execution_count": null,
   "metadata": {},
   "outputs": [],
   "source": [
    "# prework\n",
    "\n",
    "from vmatplot.dos import plot_dos\n",
    "\n",
    "import matplotlib.pyplot as plt\n"
   ]
  },
  {
   "cell_type": "code",
   "execution_count": null,
   "metadata": {},
   "outputs": [],
   "source": [
    "# Testing space\n",
    "\n",
    "systems = [[\"for k-points mesh: 10,14,9\", \"4.1_PDoS/B14_K10\", \"green\",\"\",2],\n",
    "           [\"for k-points mesh: 15,21,14\", \"4.1_PDoS/B14_K15\", \"blue\"],\n",
    "           [\"for k-points mesh: 20,28,18\", \"4.1_PDoS/B14_K20\", \"violet\"],]\n",
    "\n",
    "plot_dos(\"for o-B₁₄\", 6, 12, \"total\", systems)\n"
   ]
  }
 ],
 "metadata": {
  "kernelspec": {
   "display_name": "Python 3",
   "language": "python",
   "name": "python3"
  },
  "language_info": {
   "codemirror_mode": {
    "name": "ipython",
    "version": 3
   },
   "file_extension": ".py",
   "mimetype": "text/x-python",
   "name": "python",
   "nbconvert_exporter": "python",
   "pygments_lexer": "ipython3",
   "version": "3.6.8"
  }
 },
 "nbformat": 4,
 "nbformat_minor": 2
}
