{
 "cells": [
  {
   "cell_type": "markdown",
   "metadata": {
    "vscode": {
     "languageId": "plaintext"
    }
   },
   "source": [
    "# Compoemts analysis for PDoS\n",
    "\n",
    "Compoemts analysis for projected electronic density of state versus energy\n"
   ]
  },
  {
   "cell_type": "code",
   "execution_count": 1,
   "metadata": {},
   "outputs": [],
   "source": [
    "# prework\n",
    "\n",
    "from vmatplot.commons import get_elements, get_elements_coordinates\n"
   ]
  },
  {
   "cell_type": "code",
   "execution_count": 2,
   "metadata": {},
   "outputs": [
    {
     "name": "stdout",
     "output_type": "stream",
     "text": [
      "The element analysis for o-B14 with PBE is \n",
      " {'B': (1, 14)} \n",
      "\n"
     ]
    }
   ],
   "source": [
    "# overview elements analysis\n",
    "\n",
    "directory_PBE = \"4.1_PDoS/B14_K20\"\n",
    "elements = get_elements(directory_PBE)\n",
    "\n",
    "print(f\"The element analysis for o-B14 with PBE is \\n {elements} \\n\")\n"
   ]
  },
  {
   "cell_type": "code",
   "execution_count": 3,
   "metadata": {},
   "outputs": [
    {
     "name": "stdout",
     "output_type": "stream",
     "text": [
      "The element analysis for o-B14 with PBE is following\n"
     ]
    },
    {
     "data": {
      "text/plain": [
       "[{'index': 1, 'element': 'B', 'coordinates': (0.52128988, 0.5, 0.6379577)},\n",
       " {'index': 2, 'element': 'B', 'coordinates': (0.47871012, 0.5, 0.3620423)},\n",
       " {'index': 3, 'element': 'B', 'coordinates': (0.97871012, 0.5, 0.6379577)},\n",
       " {'index': 4, 'element': 'B', 'coordinates': (0.02128988, 0.5, 0.3620423)},\n",
       " {'index': 5, 'element': 'B', 'coordinates': (0.59744966, 0.5, 0.89986832)},\n",
       " {'index': 6, 'element': 'B', 'coordinates': (0.40255034, 0.5, 0.10013168)},\n",
       " {'index': 7, 'element': 'B', 'coordinates': (0.90255034, 0.5, 0.89986832)},\n",
       " {'index': 8, 'element': 'B', 'coordinates': (0.09744966, 0.5, 0.10013168)},\n",
       " {'index': 9, 'element': 'B', 'coordinates': (0.75, 0.79156493, 0.7295794)},\n",
       " {'index': 10, 'element': 'B', 'coordinates': (0.25, 0.20843507, 0.2704206)},\n",
       " {'index': 11, 'element': 'B', 'coordinates': (0.75, 0.20843507, 0.7295794)},\n",
       " {'index': 12, 'element': 'B', 'coordinates': (0.25, 0.79156493, 0.2704206)},\n",
       " {'index': 13, 'element': 'B', 'coordinates': (0.25, 0.5, 0.52399303)},\n",
       " {'index': 14, 'element': 'B', 'coordinates': (0.75, 0.5, 0.47600697)}]"
      ]
     },
     "execution_count": 3,
     "metadata": {},
     "output_type": "execute_result"
    }
   ],
   "source": [
    "# overview elements analysis\n",
    "\n",
    "directory_PBE = \"4.1_PDoS/B14_K20\"\n",
    "coordinates = get_elements_coordinates(directory_PBE)\n",
    "\n",
    "print(f\"The element analysis for o-B14 with PBE is following\")\n",
    "coordinates\n",
    "\n",
    "# summary\n",
    "\n",
    "\"\"\"\n",
    "index: 1,  element: B: 0.52128988, 0.5, 0.6379577   B1\n",
    "index: 2,  element: B: 0.47871012, 0.5, 0.3620423   B1\n",
    "index: 3,  element: B: 0.97871012, 0.5, 0.6379577   B1\n",
    "index: 4,  element: B: 0.02128988, 0.5, 0.3620423   B1\n",
    "index: 5,  element: B: 0.59744966, 0.5, 0.89986832  B2\n",
    "index: 6,  element: B: 0.40255034, 0.5, 0.10013168  B2\n",
    "index: 7,  element: B: 0.90255034, 0.5, 0.89986832  B2\n",
    "index: 8,  element: B: 0.09744966, 0.5, 0.10013168  B2\n",
    "index: 9,  element: B: 0.75, 0.79156493, 0.7295794  B3\n",
    "index: 10,  element: B: 0.25, 0.20843507, 0.2704206 B3\n",
    "index: 11,  element: B: 0.75, 0.20843507, 0.7295794 B3\n",
    "index: 12,  element: B: 0.25, 0.79156493, 0.2704206 B3\n",
    "index: 13,  element: B: 0.25, 0.5, 0.52399303       B4\n",
    "index: 14,  element: B: 0.75, 0.5, 0.47600697       B4\n",
    "\n",
    "G1 (source B2): B2: [5,6,7,8]\n",
    "G2 (source B3): B1 + B4: [1,2,3,4,13,14]\n",
    "G3 (source B7): B3 + B2 + B1 + B4 [(1,14)]\n",
    "\"\"\"\n"
   ]
  }
 ],
 "metadata": {
  "kernelspec": {
   "display_name": "Python 3",
   "language": "python",
   "name": "python3"
  },
  "language_info": {
   "codemirror_mode": {
    "name": "ipython",
    "version": 3
   },
   "file_extension": ".py",
   "mimetype": "text/x-python",
   "name": "python",
   "nbconvert_exporter": "python",
   "pygments_lexer": "ipython3",
   "version": "3.6.8"
  }
 },
 "nbformat": 4,
 "nbformat_minor": 2
}
