{
 "cells": [
  {
   "cell_type": "markdown",
   "metadata": {},
   "source": [
    "# Bandgap"
   ]
  },
  {
   "cell_type": "code",
   "execution_count": null,
   "metadata": {},
   "outputs": [
    {
     "name": "stdout",
     "output_type": "stream",
     "text": [
      "If the points per segment is 16, the bandgap is 0.0046000000000003816\n",
      "If the points per segment is 24, the bandgap is 0.0046000000000003816\n"
     ]
    }
   ],
   "source": [
    "from vmatplot.bandstructure import extract_bandgap\n",
    "\n",
    "# If number of points along each segment of the high-symmetry pathis 16\n",
    "\n",
    "density_16 = extract_bandgap(\"3.1_bandstructure/B14_K16\")\n",
    "\n",
    "print(f\"If the points per segment is 16, the bandgap is {density_16}\")\n",
    "\n",
    "# If number of points along each segment of the high-symmetry path is 24\n",
    "\n",
    "density_24 = extract_bandgap(\"3.1_bandstructure/B14_K16\")\n",
    "\n",
    "print(f\"If the points per segment is 24, the bandgap is {density_24}\")\n"
   ]
  }
 ],
 "metadata": {
  "kernelspec": {
   "display_name": "Python 3",
   "language": "python",
   "name": "python3"
  },
  "language_info": {
   "codemirror_mode": {
    "name": "ipython",
    "version": 3
   },
   "file_extension": ".py",
   "mimetype": "text/x-python",
   "name": "python",
   "nbconvert_exporter": "python",
   "pygments_lexer": "ipython3",
   "version": "3.6.8"
  }
 },
 "nbformat": 4,
 "nbformat_minor": 2
}
