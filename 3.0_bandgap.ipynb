{
 "cells": [
  {
   "cell_type": "markdown",
   "metadata": {},
   "source": [
    "# Bandgap and bandstructure testing"
   ]
  },
  {
   "cell_type": "code",
   "execution_count": 1,
   "metadata": {},
   "outputs": [
    {
     "name": "stdout",
     "output_type": "stream",
     "text": [
      "If the points per segment is 16, \n",
      "\tthe bandgap is -19.962; \n",
      "\tHOMO band index is 21 and HOMO energy is 21.0; \n",
      "\tLUMO band index is 22 and LUMO energy is 1.038\n",
      "If the points per segment is 24, \n",
      "\tthe bandgap is -19.9778; \n",
      "\tHOMO band index is 21 and HOMO energy is 21.0; \n",
      "\tLUMO band index is 22 and LUMO energy is 1.0222\n"
     ]
    }
   ],
   "source": [
    "# Bandgap\n",
    "\n",
    "from vmatplot.bandstructure import *\n",
    "\n",
    "# If number of points along each segment of the high-symmetry pathis 16\n",
    "\n",
    "current_density = extract_bandgap_OUTCAR(\"3.1_bandstructure/B14_K16_alpha\")\n",
    "\n",
    "current_output = (\n",
    "    f\"If the points per segment is 16, \\n\"\n",
    "    f\"\\tthe bandgap is {current_density['bandgap']}; \\n\"\n",
    "    f\"\\tHOMO band index is {current_density['HOMO index']} and HOMO energy is {current_density['HOMO energy']}; \\n\"\n",
    "    f\"\\tLUMO band index is {current_density['LUMO index']} and LUMO energy is {current_density['LUMO energy']}\"\n",
    ")\n",
    "print(current_output)\n",
    "\n",
    "# HOMO: band: 21  E= 2.5776\n",
    "# LUMO: band: 22  E= 1.0380\n",
    "\n",
    "# If number of points along each segment of the high-symmetry path is 24\n",
    "\n",
    "current_density = extract_bandgap_OUTCAR(\"3.1_bandstructure/B14_K24_alpha\")\n",
    "\n",
    "current_output = (\n",
    "    f\"If the points per segment is 24, \\n\"\n",
    "    f\"\\tthe bandgap is {current_density['bandgap']}; \\n\"\n",
    "    f\"\\tHOMO band index is {current_density['HOMO index']} and HOMO energy is {current_density['HOMO']}; \\n\"\n",
    "    f\"\\tLUMO band index is {current_density['LUMO index']} and LUMO energy is {current_density['LUMO']}\"\n",
    ")\n",
    "print(current_output)\n"
   ]
  },
  {
   "cell_type": "code",
   "execution_count": 2,
   "metadata": {},
   "outputs": [
    {
     "name": "stdout",
     "output_type": "stream",
     "text": [
      "3.9496967402167398\n",
      "0.5065556111318528\n",
      "0.5510627613785504\n",
      "0.506555611131851\n",
      "0.7768416226855308\n",
      "0.5510627613785499\n",
      "0.506555611131855\n",
      "0.5510627613785499\n"
     ]
    }
   ],
   "source": [
    "# Bandstructure testing\n",
    "\n",
    "from vmatplot.bandstructure import *\n",
    "\n",
    "direc = \"3.1_bandstructure/B14_K24_gamma\"\n",
    "\n",
    "path = kpoints_path(direc)\n",
    "print(list(path.values())[7]-list(path.values())[0])\n",
    "print(list(path.values())[1]-list(path.values())[0])\n",
    "print(list(path.values())[2]-list(path.values())[1])\n",
    "print(list(path.values())[3]-list(path.values())[2])\n",
    "print(list(path.values())[4]-list(path.values())[3])\n",
    "print(list(path.values())[5]-list(path.values())[4])\n",
    "print(list(path.values())[6]-list(path.values())[5])\n",
    "print(list(path.values())[7]-list(path.values())[6])\n"
   ]
  },
  {
   "cell_type": "code",
   "execution_count": 3,
   "metadata": {},
   "outputs": [
    {
     "name": "stdout",
     "output_type": "stream",
     "text": [
      "4.4012544628307015\n",
      "0.5065556111318528\n",
      "0.7768416226855317\n",
      "0.506555611131851\n",
      "0.5510627613785499\n",
      "0.7768416226855286\n",
      "0.506555611131855\n",
      "0.7768416226855326\n"
     ]
    }
   ],
   "source": [
    "direc = \"3.1_bandstructure/B14_K24_alpha\"\n",
    "\n",
    "path = kpoints_path(direc)\n",
    "print(list(path.values())[7]-list(path.values())[0])\n",
    "print(list(path.values())[1]-list(path.values())[0])\n",
    "print(list(path.values())[2]-list(path.values())[1])\n",
    "print(list(path.values())[3]-list(path.values())[2])\n",
    "print(list(path.values())[4]-list(path.values())[3])\n",
    "print(list(path.values())[5]-list(path.values())[4])\n",
    "print(list(path.values())[6]-list(path.values())[5])\n",
    "print(list(path.values())[7]-list(path.values())[6])\n"
   ]
  }
 ],
 "metadata": {
  "kernelspec": {
   "display_name": "Python 3",
   "language": "python",
   "name": "python3"
  },
  "language_info": {
   "codemirror_mode": {
    "name": "ipython",
    "version": 3
   },
   "file_extension": ".py",
   "mimetype": "text/x-python",
   "name": "python",
   "nbconvert_exporter": "python",
   "pygments_lexer": "ipython3",
   "version": "3.6.8"
  }
 },
 "nbformat": 4,
 "nbformat_minor": 2
}
