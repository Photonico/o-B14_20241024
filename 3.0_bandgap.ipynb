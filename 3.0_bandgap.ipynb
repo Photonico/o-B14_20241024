{
 "cells": [
  {
   "cell_type": "markdown",
   "metadata": {},
   "source": [
    "# Bandgap and bandstructure testing"
   ]
  },
  {
   "cell_type": "code",
   "execution_count": null,
   "metadata": {},
   "outputs": [],
   "source": [
    "# Bandgap\n",
    "\n",
    "from vmatplot.bandstructure import *\n",
    "\n",
    "# If number of points along each segment of the high-symmetry pathis 16\n",
    "\n",
    "current_density = extract_bandgap_OUTCAR(\"3.1_bandstructure/B14_K16\")\n",
    "\n",
    "current_output = (\n",
    "    f\"If the points per segment is 16, \\n\"\n",
    "    f\"\\tthe bandgap is {current_density['bandgap']}; \\n\"\n",
    "    f\"\\tHOMO band index is {current_density['HOMO index']} and HOMO energy is {current_density['HOMO energy']}; \\n\"\n",
    "    f\"\\tLUMO band index is {current_density['LUMO index']} and LUMO energy is {current_density['LUMO energy']}\"\n",
    ")\n",
    "print(current_output)\n",
    "\n",
    "# HOMO: band: 21  E= 2.5776\n",
    "# LUMO: band: 22  E= 1.0380\n",
    "\n",
    "# If number of points along each segment of the high-symmetry path is 24\n",
    "\n",
    "current_density = extract_bandgap_OUTCAR(\"3.1_bandstructure/B14_K24\")\n",
    "\n",
    "current_output = (\n",
    "    f\"If the points per segment is 24, \\n\"\n",
    "    f\"\\tthe bandgap is {current_density['bandgap']}; \\n\"\n",
    "    f\"\\tHOMO band index is {current_density['HOMO index']} and HOMO energy is {current_density['HOMO']}; \\n\"\n",
    "    f\"\\tLUMO band index is {current_density['LUMO index']} and LUMO energy is {current_density['LUMO']}\"\n",
    ")\n",
    "print(current_output)\n"
   ]
  },
  {
   "cell_type": "code",
   "execution_count": 5,
   "metadata": {},
   "outputs": [
    {
     "name": "stdout",
     "output_type": "stream",
     "text": [
      "8\n"
     ]
    },
    {
     "data": {
      "text/plain": [
       "{'Γ': 0, 'Z': 23, 'U': 47, 'X': 71, 'S': 95, 'Y': 119, 'T': 143, 'R': 167}"
      ]
     },
     "execution_count": 5,
     "metadata": {},
     "output_type": "execute_result"
    }
   ],
   "source": [
    "# Bandstructure testing\n",
    "\n",
    "from vmatplot.bandstructure import *\n",
    "\n",
    "direc = \"3.1_bandstructure/B14_K24_zeta\"\n",
    "\n",
    "print(len(kpoints_index(direc)))\n",
    "kpoints_index(direc)\n"
   ]
  },
  {
   "cell_type": "code",
   "execution_count": null,
   "metadata": {},
   "outputs": [],
   "source": [
    "print(len(kpoints_index(direc)))\n",
    "kpoints_index(direc)"
   ]
  }
 ],
 "metadata": {
  "kernelspec": {
   "display_name": "Python 3",
   "language": "python",
   "name": "python3"
  },
  "language_info": {
   "codemirror_mode": {
    "name": "ipython",
    "version": 3
   },
   "file_extension": ".py",
   "mimetype": "text/x-python",
   "name": "python",
   "nbconvert_exporter": "python",
   "pygments_lexer": "ipython3",
   "version": "3.6.8"
  }
 },
 "nbformat": 4,
 "nbformat_minor": 2
}
