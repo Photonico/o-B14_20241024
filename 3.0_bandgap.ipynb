{
 "cells": [
  {
   "cell_type": "markdown",
   "metadata": {},
   "source": [
    "# Bandgap"
   ]
  },
  {
   "cell_type": "code",
   "execution_count": 1,
   "metadata": {},
   "outputs": [
    {
     "name": "stdout",
     "output_type": "stream",
     "text": [
      "If the points per segment is 16, \n",
      "\tthe bandgap is -19.962; \n",
      "\tHOMO band index is 21 and HOMO energy is 21.0; \n",
      "\tLUMO band index is 22 and LUMO energy is 1.038\n",
      "If the points per segment is 16, \n",
      "\tthe bandgap is -19.962; \n",
      "\tHOMO band index is 21 and HOMO energy is 21.0; \n",
      "\tLUMO band index is 22 and LUMO energy is 1.038\n"
     ]
    }
   ],
   "source": [
    "from vmatplot.bandstructure import extract_bandgap_OUTCAR\n",
    "\n",
    "# If number of points along each segment of the high-symmetry pathis 16\n",
    "\n",
    "current_density = extract_bandgap_OUTCAR(\"3.1_bandstructure/B14_K16\")\n",
    "\n",
    "current_output = (\n",
    "    f\"If the points per segment is 16, \\n\"\n",
    "    f\"\\tthe bandgap is {current_density['bandgap']}; \\n\"\n",
    "    f\"\\tHOMO band index is {current_density['HOMO index']} and HOMO energy is {current_density['HOMO energy']}; \\n\"\n",
    "    f\"\\tLUMO band index is {current_density['LUMO index']} and LUMO energy is {current_density['LUMO energy']}\"\n",
    ")\n",
    "print(current_output)\n",
    "\n",
    "# HOMO: band: 21  E= 2.5776\n",
    "# LUMO: band: 22  E= 1.0380\n",
    "\n",
    "# If number of points along each segment of the high-symmetry path is 24\n",
    "\n",
    "current_density = extract_bandgap_OUTCAR(\"3.1_bandstructure/B14_K16\")\n",
    "\n",
    "current_output = (\n",
    "    f\"If the points per segment is 16, \\n\"\n",
    "    f\"\\tthe bandgap is {current_density['bandgap']}; \\n\"\n",
    "    f\"\\tHOMO band index is {current_density['HOMO index']} and HOMO energy is {current_density['HOMO']}; \\n\"\n",
    "    f\"\\tLUMO band index is {current_density['LUMO index']} and LUMO energy is {current_density['LUMO']}\"\n",
    ")\n",
    "print(current_output)\n"
   ]
  }
 ],
 "metadata": {
  "kernelspec": {
   "display_name": "Python 3",
   "language": "python",
   "name": "python3"
  },
  "language_info": {
   "codemirror_mode": {
    "name": "ipython",
    "version": 3
   },
   "file_extension": ".py",
   "mimetype": "text/x-python",
   "name": "python",
   "nbconvert_exporter": "python",
   "pygments_lexer": "ipython3",
   "version": "3.6.8"
  }
 },
 "nbformat": 4,
 "nbformat_minor": 2
}
