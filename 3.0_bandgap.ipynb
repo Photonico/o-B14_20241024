{
 "cells": [
  {
   "cell_type": "markdown",
   "metadata": {},
   "source": [
    "# Bandgap and bandstructure testing"
   ]
  },
  {
   "cell_type": "code",
   "execution_count": 1,
   "metadata": {},
   "outputs": [
    {
     "name": "stdout",
     "output_type": "stream",
     "text": [
      "For o-B₁₄\n",
      "If the points per segment is 12, \n",
      "\tthe bandgap is -19.951; \n",
      "\tHOMO band index is 21 and HOMO energy is 21.0; \n",
      "\tLUMO band index is 22 and LUMO energy is 1.049\n",
      "If the points per segment is 24, \n",
      "\tthe bandgap is -19.9517; \n",
      "\tHOMO band index is 21 and HOMO energy is 21.0; \n",
      "\tLUMO band index is 22 and LUMO energy is 1.0483\n",
      "If the points per segment is 48, \n",
      "\tthe bandgap is -217.9512; \n",
      "\tHOMO band index is 21 and HOMO energy is 219.0; \n",
      "\tLUMO band index is 22 and LUMO energy is 1.0488\n"
     ]
    }
   ],
   "source": [
    "#### Bandgap\n",
    "\n",
    "from vmatplot.bandstructure import *\n",
    "\n",
    "## o-B14\n",
    "print(\"For o-B₁₄\")\n",
    "\n",
    "# If number of points along each segment of the high-symmetry pathis 12\n",
    "current_density = extract_bandgap_OUTCAR(\"3.1_bandstructure/o-B14_K12\")\n",
    "current_output = (\n",
    "    f\"If the points per segment is 12, \\n\"\n",
    "    f\"\\tthe bandgap is {current_density['bandgap']}; \\n\"\n",
    "    f\"\\tHOMO band index is {current_density['HOMO index']} and HOMO energy is {current_density['HOMO energy']}; \\n\"\n",
    "    f\"\\tLUMO band index is {current_density['LUMO index']} and LUMO energy is {current_density['LUMO energy']}\"\n",
    ")\n",
    "print(current_output)\n",
    "\n",
    "# If number of points along each segment of the high-symmetry path is 24\n",
    "current_density = extract_bandgap_OUTCAR(\"3.1_bandstructure/o-B14_K24\")\n",
    "current_output = (\n",
    "    f\"If the points per segment is 24, \\n\"\n",
    "    f\"\\tthe bandgap is {current_density['bandgap']}; \\n\"\n",
    "    f\"\\tHOMO band index is {current_density['HOMO index']} and HOMO energy is {current_density['HOMO']}; \\n\"\n",
    "    f\"\\tLUMO band index is {current_density['LUMO index']} and LUMO energy is {current_density['LUMO']}\"\n",
    ")\n",
    "print(current_output)\n",
    "\n",
    "# If number of points along each segment of the high-symmetry path is 48\n",
    "current_density = extract_bandgap_OUTCAR(\"3.1_bandstructure/o-B14_K48\")\n",
    "current_output = (\n",
    "    f\"If the points per segment is 48, \\n\"\n",
    "    f\"\\tthe bandgap is {current_density['bandgap']}; \\n\"\n",
    "    f\"\\tHOMO band index is {current_density['HOMO index']} and HOMO energy is {current_density['HOMO']}; \\n\"\n",
    "    f\"\\tLUMO band index is {current_density['LUMO index']} and LUMO energy is {current_density['LUMO']}\"\n",
    ")\n",
    "print(current_output)\n"
   ]
  }
 ],
 "metadata": {
  "kernelspec": {
   "display_name": "Python 3",
   "language": "python",
   "name": "python3"
  },
  "language_info": {
   "codemirror_mode": {
    "name": "ipython",
    "version": 3
   },
   "file_extension": ".py",
   "mimetype": "text/x-python",
   "name": "python",
   "nbconvert_exporter": "python",
   "pygments_lexer": "ipython3",
   "version": "3.6.8"
  }
 },
 "nbformat": 4,
 "nbformat_minor": 2
}
