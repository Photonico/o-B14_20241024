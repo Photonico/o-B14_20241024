{
 "cells": [
  {
   "cell_type": "markdown",
   "metadata": {},
   "source": [
    "# Convergence testing for o-B14 monolayer\n",
    "\n",
    "Energy versus parameters\n"
   ]
  },
  {
   "cell_type": "code",
   "execution_count": null,
   "metadata": {},
   "outputs": [],
   "source": [
    "# Prework\n",
    "\n",
    "from vmatplot.convergence import *\n",
    "import matplotlib.pyplot as plt\n",
    "\n",
    "vaccum_boundary = (10, 40)\n"
   ]
  },
  {
   "cell_type": "code",
   "execution_count": null,
   "metadata": {},
   "outputs": [],
   "source": [
    "# 1.9 Energy versus vaccuum\n",
    "\n",
    "summarize_parameters(\"1.2_convergence_monolayer/energy_vacuum\")\n",
    "vaccum_list = [\"\", \"1.2_convergence_monolayer/energy_vacuum/energy_parameters.dat\", vaccum_boundary, \"green\"]\n",
    "\n",
    "plot_energy_parameters(\"Energy versus vacuum for o-B₁₄ monolayer\", \"kpoints\", vaccum_list)"
   ]
  }
 ],
 "metadata": {
  "kernelspec": {
   "display_name": "Python 3",
   "language": "python",
   "name": "python3"
  },
  "language_info": {
   "name": "python",
   "version": "3.6.8"
  }
 },
 "nbformat": 4,
 "nbformat_minor": 2
}
