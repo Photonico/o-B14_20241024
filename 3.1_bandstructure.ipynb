{
 "cells": [
  {
   "cell_type": "markdown",
   "metadata": {},
   "source": [
    "# Bandstructure"
   ]
  },
  {
   "cell_type": "code",
   "execution_count": 1,
   "metadata": {},
   "outputs": [
    {
     "data": {
      "text/plain": [
       "['U', 'Y', 'T', 'X', 'S', 'R', 'Z', 'Γ']"
      ]
     },
     "execution_count": 1,
     "metadata": {},
     "output_type": "execute_result"
    }
   ],
   "source": [
    "# Testing space\n",
    "\n",
    "from vmatplot.bandstructure import *\n",
    "\n",
    "dir_16 = \"3.1_bandstructure/B14_K16\"\n",
    "\n",
    "extract_high_sym(dir_16)"
   ]
  },
  {
   "cell_type": "code",
   "execution_count": 2,
   "metadata": {},
   "outputs": [
    {
     "data": {
      "text/plain": [
       "[(0.0, 0.0, 0.0),\n",
       " (0.0, 0.0, 0.5),\n",
       " (0.0, 0.5, 0.5),\n",
       " (0.0, 0.5, 0.0),\n",
       " (0.5, 0.5, 0.0),\n",
       " (0.5, 0.0, 0.0),\n",
       " (0.5, 0.0, 0.5),\n",
       " (0.5, 0.5, 0.5)]"
      ]
     },
     "execution_count": 2,
     "metadata": {},
     "output_type": "execute_result"
    }
   ],
   "source": [
    "high_symmetry_coordinates(dir_16)"
   ]
  }
 ],
 "metadata": {
  "kernelspec": {
   "display_name": "Python 3",
   "language": "python",
   "name": "python3"
  },
  "language_info": {
   "codemirror_mode": {
    "name": "ipython",
    "version": 3
   },
   "file_extension": ".py",
   "mimetype": "text/x-python",
   "name": "python",
   "nbconvert_exporter": "python",
   "pygments_lexer": "ipython3",
   "version": "3.6.8"
  }
 },
 "nbformat": 4,
 "nbformat_minor": 2
}
