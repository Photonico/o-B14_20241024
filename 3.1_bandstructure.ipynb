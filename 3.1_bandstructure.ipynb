{
 "cells": [
  {
   "cell_type": "markdown",
   "metadata": {},
   "source": [
    "# Bandstructure"
   ]
  },
  {
   "cell_type": "code",
   "execution_count": null,
   "metadata": {},
   "outputs": [],
   "source": [
    "# Prework\n",
    "\n",
    "from vmatplot.bandstructure import *\n"
   ]
  },
  {
   "cell_type": "code",
   "execution_count": null,
   "metadata": {},
   "outputs": [],
   "source": [
    "# bandstructure\n",
    "\n",
    "bs_list = [[\"monocolor\", \"\", \"3.1_bandstructure/B14_K48_delta\", \"blue\"]]\n",
    "\n",
    "plot_bandstructure(\"for o-B₁₄\", 4, bs_list, False)\n",
    "\n",
    "plt.savefig(\"figures/3.1.1_bandstructure.pdf\")\n"
   ]
  },
  {
   "cell_type": "code",
   "execution_count": null,
   "metadata": {},
   "outputs": [],
   "source": [
    "# bandstructure large\n",
    "\n",
    "bs_list = [[\"monocolor\", \"\", \"3.1_bandstructure/B14_K48_delta\", \"blue\"]]\n",
    "\n",
    "plot_bandstructure(\"for o-B₁₄\", (-20, 10), bs_list, False)\n",
    "\n",
    "plt.savefig(\"figures/3.1.2_bandstructure_large.pdf\")\n"
   ]
  },
  {
   "cell_type": "code",
   "execution_count": null,
   "metadata": {},
   "outputs": [],
   "source": [
    "# bandstructure testing\n",
    "\n",
    "bs_list = [[\"monocolor\", \"(12 K-points density)\", \"3.1_bandstructure/B14_K12_delta\", \"orange\", \"solid\", 2.5, 0.4],\n",
    "           [\"monocolor\", \"(24 K-points density)\", \"3.1_bandstructure/B14_K24_delta\", \"green\", \"solid\", 1.5, 0.7],\n",
    "           [\"monocolor\", \"(48 K-points density)\", \"3.1_bandstructure/B14_K48_delta\", \"blue\", \"solid\", 1.0, 1.0]]\n",
    "\n",
    "plot_bandstructure(\"for o-B₁₄\", 4, bs_list, True)\n"
   ]
  }
 ],
 "metadata": {
  "kernelspec": {
   "display_name": "Python 3",
   "language": "python",
   "name": "python3"
  },
  "language_info": {
   "codemirror_mode": {
    "name": "ipython",
    "version": 3
   },
   "file_extension": ".py",
   "mimetype": "text/x-python",
   "name": "python",
   "nbconvert_exporter": "python",
   "pygments_lexer": "ipython3",
   "version": "3.6.8"
  }
 },
 "nbformat": 4,
 "nbformat_minor": 2
}
