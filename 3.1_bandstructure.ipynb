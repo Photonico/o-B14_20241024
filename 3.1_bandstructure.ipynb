{
 "cells": [
  {
   "cell_type": "markdown",
   "metadata": {},
   "source": [
    "# Bandstructure"
   ]
  },
  {
   "cell_type": "code",
   "execution_count": null,
   "metadata": {},
   "outputs": [],
   "source": [
    "# Prework\n",
    "\n",
    "from vmatplot.bandstructure import *\n"
   ]
  },
  {
   "cell_type": "code",
   "execution_count": null,
   "metadata": {},
   "outputs": [],
   "source": [
    "# bandstructure\n",
    "\n",
    "bs_list = [[\"monocolor\", \"(24 k-points)\", \"3.1_bandstructure/B14_K24_alpha\", \"wine\", \"solid\", 1.0],\n",
    "           [\"monocolor\", \"(16 k-points)\", \"3.1_bandstructure/B14_K16_alpha\", \"blue\", \"dotted\", 1.0]]\n",
    "\n",
    "bs_list = [[\"monocolor\", \"(24 k-points)\", \"3.1_bandstructure/B14_K24_alpha\", \"blue\", \"solid\", 1.0]]\n",
    "\n",
    "plot_bandstructure(\"for o-B₁₄\", 4, bs_list)\n",
    "\n",
    "plt.savefig(\"figures/3.1_bandstructure.pdf\")\n"
   ]
  },
  {
   "cell_type": "code",
   "execution_count": null,
   "metadata": {},
   "outputs": [],
   "source": [
    "# bandstructure with DoS\n",
    "\n",
    "bsDoS_list = [[\"monocolor\", \"\", \"3.1_bandstructure/B14_K16_alpha\", \"4.1_PDoS/B14_K20\", \"default\"]]\n"
   ]
  },
  {
   "cell_type": "code",
   "execution_count": null,
   "metadata": {},
   "outputs": [],
   "source": [
    "# bandstructure with PDoS\n"
   ]
  }
 ],
 "metadata": {
  "kernelspec": {
   "display_name": "Python 3",
   "language": "python",
   "name": "python3"
  },
  "language_info": {
   "codemirror_mode": {
    "name": "ipython",
    "version": 3
   },
   "file_extension": ".py",
   "mimetype": "text/x-python",
   "name": "python",
   "nbconvert_exporter": "python",
   "pygments_lexer": "ipython3",
   "version": "3.6.8"
  }
 },
 "nbformat": 4,
 "nbformat_minor": 2
}
