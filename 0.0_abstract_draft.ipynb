{
 "cells": [
  {
   "cell_type": "markdown",
   "metadata": {},
   "source": [
    "# Draft of Abstract\n",
    "\n",
    "This is a draft of abstract\n"
   ]
  },
  {
   "cell_type": "markdown",
   "metadata": {},
   "source": [
    "## Abstract draft\n",
    "\n",
    "For this study, we investigate the atomic, electronic, optical, and plasma properties of bulk orthorhombic boron (o-B14) with the first-principles calculations which is based on GGA-PBE alorithms. Its structure is defined by edge-sharing B7 pentagonal bioyramids, B3 triangels, and B3 pairs, with diverse bond length (1.644 to 1.966 Å). These properties faciliate the formation of usual sever-center-two-electron (7c–2e) π bonds, which are reported here for the first time in 3-D boron allotropes. The bandstructure reveals metallic behavior, characterized by 3 bands crossing the Fermi level. These bands include steep bands that promote high electron velocity and flat bands near the Fermi level, enhancing the density of states and favoring electronic interactions. Ongoing work focuses on evaluating the optical and plasma dispersion properties of o-B14, which are expected to reveal unique anisotropic responses based on its complex bonding framework.\n",
    "\n"
   ]
  },
  {
   "cell_type": "markdown",
   "metadata": {},
   "source": []
  }
 ],
 "metadata": {
  "kernelspec": {
   "display_name": "Python 3",
   "language": "python",
   "name": "python3"
  },
  "language_info": {
   "name": "python",
   "version": "3.6.8"
  }
 },
 "nbformat": 4,
 "nbformat_minor": 2
}
