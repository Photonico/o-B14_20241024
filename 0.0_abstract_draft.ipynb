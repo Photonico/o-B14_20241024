{
 "cells": [
  {
   "cell_type": "markdown",
   "metadata": {},
   "source": [
    "# Draft of Abstract\n",
    "\n",
    "This is a draft of abstract\n"
   ]
  },
  {
   "cell_type": "markdown",
   "metadata": {},
   "source": [
    "## Abstract draft\n",
    "\n",
    "Bulk orthorhombic boron (o-B14) is a fascinating three-dimensional boron allotrope, exhibiting unique structural, electronic, and potential optical properties. Its structure is characterized by edge-sharing B7 pentagonal bipyramids, B3 triangles, and B2 pairs, with diverse bond lengths ranging from 1.644 to 1.966 Å. These structural motifs facilitate the formation of unusual seven-center-two-electron (7c–2e) π bonds, identified here for the first time in 3D boron allotropes. The presence of these bonds highlights the complexity and versatility of boron chemistry under ambient conditions.\n",
    "\n",
    "o-B14 exhibits metallic behavior with three bands crossing the Fermi level. These bands include steep bands promoting high electron velocities and flat bands near the Fermi level, enhancing the density of states and favoring electronic interactions. Such electronic features suggest the potential for unique transport and quantum properties. Furthermore, strong orbital hybridizations are observed between the B 2p orbitals within the structural units, reinforcing the stability of the bonding framework. The anticipated plasmonic and optical responses, driven by the anisotropic bonding network, offer promising opportunities for advanced optoelectronic and quantum devices.\n",
    "\n",
    "In the present work, we explore the atomic and electronic properties of o-B14 using first-principles calculations based on the GGA-PBE functional. Our results provide insight into the electronic band structure, density of states, and bonding characteristics. Ongoing investigations focus on evaluating the optical and plasma dispersion properties of o-B14, which are expected to reveal distinctive anisotropic behaviors, broadening its potential applications in plasmonics and beyond.\n",
    "\n",
    "[1] Shuai Han, Yunxian Liu, Chao Wang, Wencai Yi, Xin Chen, Yongsheng Zhang, Xiaobing Liu, Superconducting boron allotrope featuring pentagonal bipyramid at ambient pressure, Phys. Chem. Chem. Phys., 2023, 25, 15400–15406. DOI: 10.1039/d3cp00692a\n"
   ]
  },
  {
   "cell_type": "markdown",
   "metadata": {},
   "source": []
  }
 ],
 "metadata": {
  "kernelspec": {
   "display_name": "Python 3",
   "language": "python",
   "name": "python3"
  },
  "language_info": {
   "name": "python",
   "version": "3.6.8"
  }
 },
 "nbformat": 4,
 "nbformat_minor": 2
}
