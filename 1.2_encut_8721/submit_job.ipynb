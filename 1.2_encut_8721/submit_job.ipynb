{
 "cells": [
  {
   "cell_type": "code",
   "execution_count": 1,
   "metadata": {},
   "outputs": [],
   "source": [
    "# GADI\n",
    "\n",
    "import os\n",
    "import subprocess\n",
    "\n",
    "def submit_gadi_jobs():\n",
    "    # Traverse all subdirectories in the current directory\n",
    "    for dirpath, dirnames, filenames in os.walk(os.getcwd()):\n",
    "        # Check if 'vasp_gadi.sh' exists in the current directory\n",
    "        if \"vasp_gadi.sh\" in filenames:\n",
    "            try:\n",
    "                # Change to the directory containing 'vasp_gadi.sh'\n",
    "                os.chdir(dirpath)\n",
    "                # Run the qsub command to submit the job\n",
    "                subprocess.run([\"qsub\", \"vasp_gadi.sh\"])\n",
    "                print(f\"Job submitted in {dirpath}\")\n",
    "            except Exception as e:\n",
    "                print(f\"Error submitting job in {dirpath}: {e}\")\n",
    "    print(\"All jobs submitted.\")\n"
   ]
  },
  {
   "cell_type": "code",
   "execution_count": 2,
   "metadata": {},
   "outputs": [
    {
     "name": "stdout",
     "output_type": "stream",
     "text": [
      "Job submitted in /g/data/g46/ln2626/Bulk_B14_20241024/1.2_encut_8721/B14_520\n",
      "Job submitted in /g/data/g46/ln2626/Bulk_B14_20241024/1.2_encut_8721/B14_1120\n",
      "Job submitted in /g/data/g46/ln2626/Bulk_B14_20241024/1.2_encut_8721/B14_1040\n",
      "Job submitted in /g/data/g46/ln2626/Bulk_B14_20241024/1.2_encut_8721/B14_980\n",
      "Job submitted in /g/data/g46/ln2626/Bulk_B14_20241024/1.2_encut_8721/B14_640\n",
      "Job submitted in /g/data/g46/ln2626/Bulk_B14_20241024/1.2_encut_8721/B14_680\n",
      "Job submitted in /g/data/g46/ln2626/Bulk_B14_20241024/1.2_encut_8721/B14_1140\n",
      "Job submitted in /g/data/g46/ln2626/Bulk_B14_20241024/1.2_encut_8721/B14_840\n",
      "Job submitted in /g/data/g46/ln2626/Bulk_B14_20241024/1.2_encut_8721/B14_940\n",
      "Job submitted in /g/data/g46/ln2626/Bulk_B14_20241024/1.2_encut_8721/B14_1060\n",
      "Job submitted in /g/data/g46/ln2626/Bulk_B14_20241024/1.2_encut_8721/B14_1100\n",
      "Job submitted in /g/data/g46/ln2626/Bulk_B14_20241024/1.2_encut_8721/B14_800\n",
      "Job submitted in /g/data/g46/ln2626/Bulk_B14_20241024/1.2_encut_8721/B14_1160\n",
      "Job submitted in /g/data/g46/ln2626/Bulk_B14_20241024/1.2_encut_8721/B14_540\n",
      "Job submitted in /g/data/g46/ln2626/Bulk_B14_20241024/1.2_encut_8721/B14_900\n",
      "Job submitted in /g/data/g46/ln2626/Bulk_B14_20241024/1.2_encut_8721/B14_440\n",
      "Job submitted in /g/data/g46/ln2626/Bulk_B14_20241024/1.2_encut_8721/B14_460\n",
      "Job submitted in /g/data/g46/ln2626/Bulk_B14_20241024/1.2_encut_8721/B14_720\n",
      "Job submitted in /g/data/g46/ln2626/Bulk_B14_20241024/1.2_encut_8721/B14_560\n",
      "Job submitted in /g/data/g46/ln2626/Bulk_B14_20241024/1.2_encut_8721/B14_480\n",
      "Job submitted in /g/data/g46/ln2626/Bulk_B14_20241024/1.2_encut_8721/B14_700\n",
      "Job submitted in /g/data/g46/ln2626/Bulk_B14_20241024/1.2_encut_8721/B14_620\n",
      "Job submitted in /g/data/g46/ln2626/Bulk_B14_20241024/1.2_encut_8721/B14_920\n",
      "Job submitted in /g/data/g46/ln2626/Bulk_B14_20241024/1.2_encut_8721/B14_1000\n",
      "Job submitted in /g/data/g46/ln2626/Bulk_B14_20241024/1.2_encut_8721/B14_740\n",
      "Job submitted in /g/data/g46/ln2626/Bulk_B14_20241024/1.2_encut_8721/B14_660\n",
      "Job submitted in /g/data/g46/ln2626/Bulk_B14_20241024/1.2_encut_8721/B14_780\n",
      "Job submitted in /g/data/g46/ln2626/Bulk_B14_20241024/1.2_encut_8721/B14_500\n",
      "Job submitted in /g/data/g46/ln2626/Bulk_B14_20241024/1.2_encut_8721/B14_760\n",
      "Job submitted in /g/data/g46/ln2626/Bulk_B14_20241024/1.2_encut_8721/B14_1180\n",
      "Job submitted in /g/data/g46/ln2626/Bulk_B14_20241024/1.2_encut_8721/B14_1020\n",
      "Job submitted in /g/data/g46/ln2626/Bulk_B14_20241024/1.2_encut_8721/B14_1200\n",
      "Job submitted in /g/data/g46/ln2626/Bulk_B14_20241024/1.2_encut_8721/B14_600\n",
      "Job submitted in /g/data/g46/ln2626/Bulk_B14_20241024/1.2_encut_8721/B14_960\n",
      "Job submitted in /g/data/g46/ln2626/Bulk_B14_20241024/1.2_encut_8721/B14_1080\n",
      "Job submitted in /g/data/g46/ln2626/Bulk_B14_20241024/1.2_encut_8721/B14_860\n",
      "Job submitted in /g/data/g46/ln2626/Bulk_B14_20241024/1.2_encut_8721/B14_580\n",
      "Job submitted in /g/data/g46/ln2626/Bulk_B14_20241024/1.2_encut_8721/B14_400\n",
      "Job submitted in /g/data/g46/ln2626/Bulk_B14_20241024/1.2_encut_8721/B14_420\n",
      "Job submitted in /g/data/g46/ln2626/Bulk_B14_20241024/1.2_encut_8721/B14_880\n",
      "Job submitted in /g/data/g46/ln2626/Bulk_B14_20241024/1.2_encut_8721/B14_820\n",
      "All jobs submitted.\n"
     ]
    }
   ],
   "source": [
    "# Run the function for GADI\n",
    "\n",
    "submit_gadi_jobs()"
   ]
  }
 ],
 "metadata": {
  "kernelspec": {
   "display_name": "Python 3",
   "language": "python",
   "name": "python3"
  },
  "language_info": {
   "codemirror_mode": {
    "name": "ipython",
    "version": 3
   },
   "file_extension": ".py",
   "mimetype": "text/x-python",
   "name": "python",
   "nbconvert_exporter": "python",
   "pygments_lexer": "ipython3",
   "version": "3.6.8"
  }
 },
 "nbformat": 4,
 "nbformat_minor": 2
}
