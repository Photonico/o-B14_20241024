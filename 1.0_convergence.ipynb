{
 "cells": [
  {
   "cell_type": "markdown",
   "metadata": {},
   "source": [
    "# Convergence testing\n",
    "\n",
    "Energy versus parameters\n"
   ]
  },
  {
   "cell_type": "code",
   "execution_count": null,
   "metadata": {},
   "outputs": [],
   "source": [
    "# Prework\n",
    "\n",
    "from vmatplot.convergence import *\n",
    "\n",
    "import matplotlib.pyplot as plt\n"
   ]
  },
  {
   "cell_type": "code",
   "execution_count": null,
   "metadata": {},
   "outputs": [],
   "source": [
    "# Parameters identification\n",
    "\n",
    "# identify_parameters(\"1.2_encut_1260/B14_480\")\n"
   ]
  },
  {
   "cell_type": "code",
   "execution_count": null,
   "metadata": {},
   "outputs": [],
   "source": [
    "# Energy versus K-points\n",
    "\n",
    "summarize_parameters(\"1.1_energy_kpoints_480\")\n",
    "kpoints_450_list = [\"for B₁₄ (ENCUT=450)\", \"1.1_energy_kpoints_450/energy_parameters.dat\", (40, None), \"green\"]\n",
    "kpoints_480_list = [\"for B₁₄ (ENCUT=480)\", \"1.1_energy_kpoints_480/energy_parameters.dat\", (40, None), \"blue\"]\n",
    "kpoints_list = [kpoints_450_list, kpoints_480_list]\n",
    "\n",
    "plot_energy_parameters(\"kpoints\", kpoints_list)\n",
    "plt.savefig(\"figures/1.1_energy_kpoints.pdf\")\n"
   ]
  },
  {
   "cell_type": "code",
   "execution_count": null,
   "metadata": {},
   "outputs": [],
   "source": [
    "# Cohesive energy versus K-points\n",
    "\n",
    "summarize_cohesive_energy(\"1.1_energy_kpoints_480\",\"1.3_cohesive_kpoints_480\")\n",
    "cohesive_kpoints = [\"for B₁₄ (ENCUT=480)\", \"1.3_cohesive_kpoints_480/cohesive_energy.dat\", (12, None), \"blue\"]\n",
    "\n",
    "plot_cohesive_energy_kpoints([cohesive_kpoints])\n",
    "plt.savefig(\"figures/1.3_cohesive_energy_kpoints.pdf\")\n"
   ]
  },
  {
   "cell_type": "code",
   "execution_count": null,
   "metadata": {},
   "outputs": [],
   "source": [
    "# Energy versus energy cutoff\n",
    "\n",
    "summarize_parameters(\"1.2_energy_encut_1260\")\n",
    "summarize_parameters(\"1.2_energy_encut_8721\")\n",
    "encut_1260_list = [\"for B₁₄ (Kpoints:10,14,9)\", \"1.2_energy_encut_1260/energy_parameters.dat\", (400, None), \"purple\"]\n",
    "encut_8721_list = [\"for B₁₄ (Kpoints:19,27,17)\", \"1.2_energy_encut_8721/energy_parameters.dat\", (400, None), \"violet\"]\n",
    "encut_list = [encut_1260_list, encut_8721_list]\n",
    "\n",
    "plot_energy_parameters(\"encut\", encut_list)\n",
    "plt.savefig(\"figures/1.2_energy_encut.pdf\")\n"
   ]
  },
  {
   "cell_type": "code",
   "execution_count": null,
   "metadata": {},
   "outputs": [],
   "source": [
    "# Cohesive energy versus energy cutoff\n",
    "\n",
    "summarize_cohesive_energy(\"1.2_energy_encut_1260\",\"1.4_cohesive_encut_1260\")\n",
    "cohesive_encut = [\"for B₁₄ (Kpoints:10,14,9)\", \"1.4_cohesive_encut_1260/cohesive_energy.dat\", (None, None), \"blue\"]\n",
    "\n",
    "plot_cohesive_energy_encut([cohesive_encut])\n",
    "plt.savefig(\"figures/1.4_cohesive_energy_encut.pdf\")\n"
   ]
  },
  {
   "cell_type": "code",
   "execution_count": null,
   "metadata": {},
   "outputs": [],
   "source": [
    "# Energy versus both k-points and energy cutoff\n",
    "\n",
    "plot_energy_parameters([\"kpoints\", \"encut\"], kpoints_list, encut_list)\n",
    "\n",
    "plt.savefig(\"figures/1.12_energy_kpoints_encut.pdf\")\n"
   ]
  }
 ],
 "metadata": {
  "kernelspec": {
   "display_name": "Python 3",
   "language": "python",
   "name": "python3"
  },
  "language_info": {
   "codemirror_mode": {
    "name": "ipython",
    "version": 3
   },
   "file_extension": ".py",
   "mimetype": "text/x-python",
   "name": "python",
   "nbconvert_exporter": "python",
   "pygments_lexer": "ipython3",
   "version": "3.6.8"
  }
 },
 "nbformat": 4,
 "nbformat_minor": 2
}
