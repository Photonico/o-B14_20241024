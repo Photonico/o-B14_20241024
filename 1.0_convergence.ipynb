{
 "cells": [
  {
   "cell_type": "markdown",
   "metadata": {},
   "source": [
    "# Convergence testing\n",
    "\n",
    "Energy versus parameters\n"
   ]
  },
  {
   "cell_type": "code",
   "execution_count": null,
   "metadata": {},
   "outputs": [],
   "source": [
    "# Prework\n",
    "\n",
    "from vmatplot.convergence import *\n",
    "\n",
    "import matplotlib.pyplot as plt\n"
   ]
  },
  {
   "cell_type": "code",
   "execution_count": null,
   "metadata": {},
   "outputs": [],
   "source": [
    "# Parameters identification\n",
    "\n",
    "identify_parameters(\"1.2_encut_1260/B14_480\")\n"
   ]
  },
  {
   "cell_type": "code",
   "execution_count": null,
   "metadata": {},
   "outputs": [],
   "source": [
    "# Summarize data & test\n",
    "\n",
    "summarize_energy_parameters(\"1.1_kpoints_480\")\n",
    "kpoints_450_list = [\"for B₁₄ (ENCUT=450)\", \"1.1_kpoints_450/parameters_energy.dat\", (40, None), \"green\"]\n",
    "kpoints_480_list = [\"for B₁₄ (ENCUT=480)\", \"1.1_kpoints_480/parameters_energy.dat\", (40, None), \"blue\"]\n",
    "kpoints_list = [kpoints_450_list, kpoints_480_list]\n",
    "\n",
    "summarize_energy_parameters(\"1.2_encut_1260\")\n",
    "summarize_energy_parameters(\"1.2_encut_8721\")\n",
    "encut_1260_list = [\"for B₁₄ (Kpoints:10,14,9)\", \"1.2_encut_1260/parameters_energy.dat\", (200, None), \"purple\"]\n",
    "encut_8721_list = [\"for B₁₄ (Kpoints:19,27,17)\", \"1.2_encut_8721/parameters_energy.dat\", (400, None), \"violet\"]\n",
    "encut_list = [encut_1260_list, encut_8721_list]\n",
    "\n",
    "summarize_energy_parameters(\"1.3_cohesive_encut_1260\")\n",
    "cohesive_list = "
   ]
  },
  {
   "cell_type": "code",
   "execution_count": null,
   "metadata": {},
   "outputs": [],
   "source": [
    "# K-points\n",
    "\n",
    "plot_energy_parameters(\"kpoints\", kpoints_list)\n",
    "\n",
    "plt.savefig(\"figures/1.1_kpoints.pdf\")\n"
   ]
  },
  {
   "cell_type": "code",
   "execution_count": null,
   "metadata": {},
   "outputs": [],
   "source": [
    "# Energy cutoff\n",
    "\n",
    "plot_energy_parameters(\"encut\", encut_list)\n",
    "\n",
    "plt.savefig(\"figures/1.2_encut.pdf\")\n"
   ]
  },
  {
   "cell_type": "code",
   "execution_count": null,
   "metadata": {},
   "outputs": [],
   "source": [
    "# Energy versus both k-points and energy cutoff\n",
    "\n",
    "plot_energy_parameters([\"kpoints\", \"encut\"], kpoints_list, encut_list)\n",
    "\n",
    "plt.savefig(\"figures/1.12.1_kpoints_encut.pdf\")\n"
   ]
  },
  {
   "cell_type": "code",
   "execution_count": null,
   "metadata": {},
   "outputs": [],
   "source": [
    "# Reference set\n",
    "\n",
    "plot_energy_parameters([\"kpoints\", \"encut\"], kpoints_450_list, [encut_1260_list])\n",
    "\n",
    "plt.savefig(\"figures/1.12.2_kpoints_encut.pdf\")\n"
   ]
  },
  {
   "cell_type": "code",
   "execution_count": null,
   "metadata": {},
   "outputs": [],
   "source": [
    "# Reference set\n",
    "\n",
    "plot_energy_parameters([\"kpoints\", \"encut\"], kpoints_480_list, [encut_8721_list])\n",
    "\n",
    "plt.savefig(\"figures/1.12.3_kpoints_encut.pdf\")\n"
   ]
  }
 ],
 "metadata": {
  "kernelspec": {
   "display_name": "Python 3",
   "language": "python",
   "name": "python3"
  },
  "language_info": {
   "codemirror_mode": {
    "name": "ipython",
    "version": 3
   },
   "file_extension": ".py",
   "mimetype": "text/x-python",
   "name": "python",
   "nbconvert_exporter": "python",
   "pygments_lexer": "ipython3",
   "version": "3.6.8"
  }
 },
 "nbformat": 4,
 "nbformat_minor": 2
}
