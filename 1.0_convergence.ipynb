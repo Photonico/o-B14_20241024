{
 "cells": [
  {
   "cell_type": "markdown",
   "metadata": {},
   "source": [
    "# Convergence testing\n",
    "\n",
    "Energy versus parameters\n"
   ]
  },
  {
   "cell_type": "code",
   "execution_count": null,
   "metadata": {},
   "outputs": [],
   "source": [
    "# Prework\n",
    "\n",
    "from vmatplot.convergence import *\n",
    "import matplotlib.pyplot as plt\n",
    "\n",
    "kpoints_boundary = (40, None)\n",
    "encut_boundary = (400, None)\n"
   ]
  },
  {
   "cell_type": "code",
   "execution_count": null,
   "metadata": {},
   "outputs": [],
   "source": [
    "# Parameters identification\n",
    "\n",
    "# identify_parameters(\"1.2_encut_1260/B14_480\")\n"
   ]
  },
  {
   "cell_type": "code",
   "execution_count": null,
   "metadata": {},
   "outputs": [],
   "source": [
    "# Energy versus K-points\n",
    "\n",
    "summarize_parameters(\"1.1_energy_kpoints_480\")\n",
    "kpoints_450_list = [\"for B₁₄ (ENCUT=450)\", \"1.1_energy_kpoints_450/energy_parameters.dat\", kpoints_boundary, \"green\"]\n",
    "kpoints_480_list = [\"for B₁₄ (ENCUT=480)\", \"1.1_energy_kpoints_480/energy_parameters.dat\", kpoints_boundary, \"blue\"]\n",
    "kpoints_list = [kpoints_450_list, kpoints_480_list]\n",
    "\n",
    "plot_energy_parameters(\"kpoints\", kpoints_list)\n",
    "plt.savefig(\"figures/1.1_energy_kpoints.pdf\")\n"
   ]
  },
  {
   "cell_type": "code",
   "execution_count": null,
   "metadata": {},
   "outputs": [],
   "source": [
    "# Cohesive energy versus K-points\n",
    "\n",
    "summarize_cohesive_energy(\"1.1_energy_kpoints_480\",\"1.2_cohesive_kpoints_480\")\n",
    "cohesive_kpoints = [\"for B₁₄ (ENCUT=480)\", \"1.2_cohesive_kpoints_480/cohesive_energy.dat\", kpoints_boundary, \"blue\"]\n",
    "\n",
    "# plot_cohesive_energy_kpoints([cohesive_kpoints])\n",
    "plot_cohesive_energy_parameters(\"kpoints\",[cohesive_kpoints])\n",
    "plt.savefig(\"figures/1.2_cohesive_energy_kpoints.pdf\")\n"
   ]
  },
  {
   "cell_type": "code",
   "execution_count": null,
   "metadata": {},
   "outputs": [],
   "source": [
    "# Energy versus energy cutoff\n",
    "\n",
    "summarize_parameters(\"1.3_energy_encut_1260\")\n",
    "summarize_parameters(\"1.3_energy_encut_8721\")\n",
    "encut_1260_list = [\"for B₁₄ (K-points:10,14,9)\", \"1.3_energy_encut_1260/energy_parameters.dat\", encut_boundary, \"purple\"]\n",
    "encut_8721_list = [\"for B₁₄ (K-points:19,27,17)\", \"1.3_energy_encut_8721/energy_parameters.dat\", encut_boundary, \"violet\"]\n",
    "encut_list = [encut_1260_list, encut_8721_list]\n",
    "\n",
    "plot_energy_parameters(\"encut\", encut_list)\n",
    "plt.savefig(\"figures/1.3_energy_encut.pdf\")\n"
   ]
  },
  {
   "cell_type": "code",
   "execution_count": null,
   "metadata": {},
   "outputs": [],
   "source": [
    "# Cohesive energy versus energy cutoff\n",
    "\n",
    "summarize_cohesive_energy(\"1.3_energy_encut_1260\",\"1.4_cohesive_encut_1260\")\n",
    "cohesive_encut = [\"for B₁₄ (K-points:10,14,9)\", \"1.4_cohesive_encut_1260/cohesive_energy.dat\", encut_boundary, \"violet\"]\n",
    "\n",
    "# plot_cohesive_energy_encut([cohesive_encut])\n",
    "plot_cohesive_energy_parameters(\"encut\",[cohesive_encut])\n",
    "plt.savefig(\"figures/1.4_cohesive_energy_encut.pdf\")\n"
   ]
  },
  {
   "cell_type": "code",
   "execution_count": null,
   "metadata": {},
   "outputs": [],
   "source": [
    "# Energy versus both k-points and energy cutoff\n",
    "\n",
    "plot_energy_parameters([\"kpoints\", \"encut\"], kpoints_list, encut_list)\n",
    "plt.savefig(\"figures/1.12_energy_kpoints_encut.pdf\")\n"
   ]
  },
  {
   "cell_type": "code",
   "execution_count": null,
   "metadata": {},
   "outputs": [],
   "source": [
    "# Cohesive energy versus both k-points and energy cutoff\n",
    "\n",
    "# plot_cohesive_energy_kpoints_encut_single(cohesive_kpoints, cohesive_encut)\n",
    "plot_cohesive_energy_parameters([\"kpoints\", \"encut\"],[cohesive_kpoints], [cohesive_encut])\n"
   ]
  },
  {
   "cell_type": "code",
   "execution_count": null,
   "metadata": {},
   "outputs": [],
   "source": [
    "# Energy versus lattice constant\n",
    "\n",
    "summarize_parameters(\"1.5_energy_lattice\")\n",
    "energy_lattice_list = [\"for B₁₄\", \"1.5_energy_lattice/energy_parameters.dat\", None, \"blue\", None]\n",
    "\n",
    "plot_energy_parameters(\"lattice\",energy_lattice_list)\n",
    "plt.savefig(\"figures/1.5_energy_lattice.pdf\")"
   ]
  },
  {
   "cell_type": "code",
   "execution_count": null,
   "metadata": {},
   "outputs": [],
   "source": [
    "# # Cohesive energy versus lattice constant\n",
    "\n",
    "# summarize_cohesive_energy(\"1.5_energy_lattice\",\"1.6_cohesive_lattice\")\n",
    "# cohesive_kpoints = [\"for B₁₄\", \"1.6_cohesive_lattice/cohesive_energy.dat\", kpoints_boundary, \"blue\"]\n",
    "\n",
    "# # plot_cohesive_energy_parameters(\"kpoints\",[cohesive_kpoints])\n",
    "# # plt.savefig(\"figures/1.6_cohesive_energy_lattice.pdf\")\n"
   ]
  }
 ],
 "metadata": {
  "kernelspec": {
   "display_name": "Python 3",
   "language": "python",
   "name": "python3"
  },
  "language_info": {
   "codemirror_mode": {
    "name": "ipython",
    "version": 3
   },
   "file_extension": ".py",
   "mimetype": "text/x-python",
   "name": "python",
   "nbconvert_exporter": "python",
   "pygments_lexer": "ipython3",
   "version": "3.6.8"
  }
 },
 "nbformat": 4,
 "nbformat_minor": 2
}
