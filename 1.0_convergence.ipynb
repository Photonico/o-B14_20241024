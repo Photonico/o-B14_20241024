{
 "cells": [
  {
   "cell_type": "markdown",
   "metadata": {},
   "source": [
    "# Convergence testing\n",
    "\n",
    "Energy versus parameters\n"
   ]
  },
  {
   "cell_type": "code",
   "execution_count": null,
   "metadata": {},
   "outputs": [],
   "source": [
    "# Prework\n",
    "\n",
    "from vmatplot.convergence import *\n",
    "\n",
    "import matplotlib.pyplot as plt\n"
   ]
  },
  {
   "cell_type": "code",
   "execution_count": null,
   "metadata": {},
   "outputs": [],
   "source": [
    "# Parameters identification\n",
    "\n",
    "kpoints_list = [\"for B₁₄\", \"1.1_kpoints/parameters_energy.dat\", (175, None), \"blue\"]\n",
    "encut_list = [\"for B₁₄\", \"1.2_encut/parameters_energy.dat\", (400, None), \"violet\"]\n",
    "identify_parameters(\"1.2_encut/B14_480\")\n"
   ]
  },
  {
   "cell_type": "code",
   "execution_count": null,
   "metadata": {},
   "outputs": [],
   "source": [
    "# K-points\n",
    "\n",
    "summarize_energy_parameters(\"1.1_kpoints\")\n",
    "plot_energy_parameters(\"kpoints\", kpoints_list)\n",
    "\n",
    "plt.savefig(\"figures/1.1_kpoints.pdf\")\n"
   ]
  },
  {
   "cell_type": "code",
   "execution_count": null,
   "metadata": {},
   "outputs": [],
   "source": [
    "# Energy cutoff, with K-points mesh:(10 14 9)\n",
    "\n",
    "summarize_energy_parameters(\"1.2_encut\")\n",
    "plot_energy_parameters(\"encut\", encut_list)\n",
    "\n",
    "plt.savefig(\"figures/1.2_encut.pdf\")\n"
   ]
  },
  {
   "cell_type": "code",
   "execution_count": null,
   "metadata": {},
   "outputs": [],
   "source": [
    "# Energy versus both k-points and energy cutoff\n",
    "\n",
    "kpoints_list = [\"for B₁₄\", \"1.1_kpoints/parameters_energy.dat\", (175, None), \"blue\"]\n",
    "encut_list = [\"for B₁₄\", \"1.2_encut/parameters_energy.dat\", (400, None), \"violet\"]\n",
    "\n",
    "plot_energy_parameters([\"kpoints\", \"encut\"], kpoints_list, encut_list)\n",
    "\n",
    "plt.savefig(\"figures/1.12_kpoints_encut.pdf\")\n"
   ]
  }
 ],
 "metadata": {
  "kernelspec": {
   "display_name": "Python 3",
   "language": "python",
   "name": "python3"
  },
  "language_info": {
   "codemirror_mode": {
    "name": "ipython",
    "version": 3
   },
   "file_extension": ".py",
   "mimetype": "text/x-python",
   "name": "python",
   "nbconvert_exporter": "python",
   "pygments_lexer": "ipython3",
   "version": "3.6.8"
  }
 },
 "nbformat": 4,
 "nbformat_minor": 2
}
