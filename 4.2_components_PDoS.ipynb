{
 "cells": [
  {
   "cell_type": "markdown",
   "metadata": {
    "vscode": {
     "languageId": "plaintext"
    }
   },
   "source": [
    "# Projected electronic density for specify components\n",
    "\n",
    "Compoemts analysis for projected electronic density of state versus energy\n"
   ]
  },
  {
   "cell_type": "code",
   "execution_count": null,
   "metadata": {},
   "outputs": [],
   "source": [
    "# prework\n",
    "\n",
    "# from vmatplot.dos import plot_pdos\n",
    "\n",
    "# import matplotlib.pyplot as plt"
   ]
  },
  {
   "cell_type": "code",
   "execution_count": null,
   "metadata": {},
   "outputs": [],
   "source": [
    "# PDoS\n",
    "\n",
    "systems = [[\"for k-points mesh: 20,28,18\", \"4.1_PDoS/B14_K20\", [1,5] , \"p\", \"violet\"]]\n",
    "\n",
    "# plot_dos(\"for o-B₁₄\", 6, 12, \"total\", systems)\n"
   ]
  }
 ],
 "metadata": {
  "kernelspec": {
   "display_name": "Python 3",
   "language": "python",
   "name": "python3"
  },
  "language_info": {
   "name": "python",
   "version": "3.6.8"
  }
 },
 "nbformat": 4,
 "nbformat_minor": 2
}
